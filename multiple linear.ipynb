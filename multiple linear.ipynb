{
 "cells": [
  {
   "cell_type": "code",
   "execution_count": 24,
   "metadata": {},
   "outputs": [
    {
     "name": "stdout",
     "output_type": "stream",
     "text": [
      "b0=0.0129191225084\n",
      "b1=1.18797840228\n",
      "b2=0.264559137597\n",
      "error=19.1108912504\n"
     ]
    }
   ],
   "source": [
    "from numpy import *\n",
    "\n",
    "def compute_error_for_given_points(b0,b1,b2,points):\n",
    "    totalError=0\n",
    "    for i in range(0,len(points)):\n",
    "        x1=points[i,0]\n",
    "        x2=points[i,1]\n",
    "        y=points[i,2]\n",
    "        totalError+=(y-(b0+b1*x1+b2*x2))**2\n",
    "    return totalError/float(len(points))\n",
    "\n",
    "def step_gradient(b0_current,b1_current,b2_current,points,learningRate):\n",
    "    #gradient descent\n",
    "    b0_gradient=0\n",
    "    b1_gradient=0\n",
    "    b2_gradient=0\n",
    "    N=float(len(points))\n",
    "    for i in range(0,len(points)):\n",
    "        x1=points[i,0]\n",
    "        x2=points[i,1]\n",
    "        y=points[i,2]\n",
    "        b0_gradient+=-(2/N)*(y-(b0_current+b1_current*x1+b2_current*x2))\n",
    "        b1_gradient+=-(2/N)*x1*(y-(b0_current+b1_current*x1+b2_current*x2))\n",
    "        b2_gradient+=-(2/N)*x2*(y-(b0_current+b1_current*x1+b2_current*x2))\n",
    "    new_b0=b0_current-(learningRate*b0_gradient)\n",
    "    new_b1=b1_current-(learningRate*b1_gradient)\n",
    "    new_b2=b2_current-(learningRate*b2_gradient)\n",
    "    return [new_b0,new_b1,new_b2]\n",
    "\n",
    "\n",
    "def gradient_descent_runner(points,starting_b0,starting_b1,starting_b2,learning_rate,num_iterations):\n",
    "    b0=starting_b0\n",
    "    b1=starting_b1\n",
    "    b2=starting_b2\n",
    "    \n",
    "    for i in range(num_iterations):\n",
    "        [b0,b1,b2]=step_gradient(b0,b1,b2,array(points),learning_rate)\n",
    "    return [b0,b1,b2]\n",
    "\n",
    "def run():\n",
    "    points=genfromtxt('mlr02.csv',delimiter=\",\")\n",
    "    #hyperparameters\n",
    "    points=delete(points,(0),axis=0)\n",
    "    learning_rate=0.00001\n",
    "    initial_b0=0\n",
    "    initial_b1=0\n",
    "    initial_b2=0\n",
    "    num_iterations=1500\n",
    "    [b0,b1,b2]=gradient_descent_runner(points,initial_b0,initial_b1,initial_b2,learning_rate,num_iterations)\n",
    "    print('b0='+str(b0))\n",
    "    print('b1='+str(b1))\n",
    "    print('b2='+str(b2))\n",
    "    error=compute_error_for_given_points(b0,b1,b2,points)\n",
    "    print('error='+str(error))\n",
    "\n",
    "if __name__ == '__main__':\n",
    "    run()"
   ]
  },
  {
   "cell_type": "code",
   "execution_count": null,
   "metadata": {
    "collapsed": true
   },
   "outputs": [],
   "source": []
  }
 ],
 "metadata": {
  "kernelspec": {
   "display_name": "Python 3",
   "language": "python",
   "name": "python3"
  },
  "language_info": {
   "codemirror_mode": {
    "name": "ipython",
    "version": 3
   },
   "file_extension": ".py",
   "mimetype": "text/x-python",
   "name": "python",
   "nbconvert_exporter": "python",
   "pygments_lexer": "ipython3",
   "version": "3.6.2"
  }
 },
 "nbformat": 4,
 "nbformat_minor": 2
}
