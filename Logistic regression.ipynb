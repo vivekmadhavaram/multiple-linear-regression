{
 "cells": [
  {
   "cell_type": "code",
   "execution_count": 1,
   "metadata": {},
   "outputs": [
    {
     "name": "stdout",
     "output_type": "stream",
     "text": [
      "0.0131991870217\n",
      "0.186694923116\n",
      "0.137317097356\n"
     ]
    },
    {
     "data": {
      "image/png": "[encoded data removed]",
      "text/plain": [
       "<matplotlib.figure.Figure at 0xb60078b2e8>"
      ]
     },
     "metadata": {},
     "output_type": "display_data"
    },
    {
     "name": "stdout",
     "output_type": "stream",
     "text": [
      "[ 0.52661149  0.53823033  0.54980779  0.56133155  0.57278954  0.58416995\n",
      "  0.58416995  0.59546131  0.60665252  0.61773288  0.62869215  0.63952059\n",
      "  0.65020893  0.66074847  0.68134915  0.69139574  0.70126445  0.71094952\n",
      "  0.72044576  0.73885411]\n"
     ]
    },
    {
     "data": {
      "image/png": "[encoded data removed]",
      "text/plain": [
       "<matplotlib.figure.Figure at 0xb600ad0d68>"
      ]
     },
     "metadata": {},
     "output_type": "display_data"
    }
   ],
   "source": [
    "from numpy import *\n",
    "import matplotlib.pyplot as pp\n",
    "\n",
    "def compute_error_for_given_points(b,m,points):\n",
    "    totalError=0\n",
    "    for i in range(0,len(points)):\n",
    "        x=points[i,0]\n",
    "        y=points[i,1]\n",
    "        totalError+=(y-(m*x+b))**2\n",
    "    return totalError/float(len(points))\n",
    "\n",
    "def step_gradient(b_current,m_current,points,learningRate):\n",
    "#gradient descent\n",
    "    b_gradient=0\n",
    "    m_gradient=0\n",
    "    N=float(len(points))\n",
    "    for i in range(0,len(points)):\n",
    "        x=points[i,0]\n",
    "        y=points[i,1]\n",
    "        b_gradient+=-(2/N)*(y-(m_current*x+b_current))\n",
    "        m_gradient+=-(2/N)*x*(y-(m_current*x+b_current))\n",
    "    new_b=b_current-(learningRate*b_gradient)\n",
    "    new_m=m_current-(learningRate*m_gradient)\n",
    "    return [new_b,new_m]\n",
    "\n",
    "\n",
    "def gradient_descent_runner(points,starting_b,starting_m,learning_rate,num_iterations): \n",
    "    b=starting_b\n",
    "    m=starting_m\n",
    "    for i in range(num_iterations):\n",
    "        [b,m]=step_gradient(b,m,array(points),learning_rate)\n",
    "    return [b,m]\n",
    "\n",
    "def run():\n",
    "    points=genfromtxt('lr.csv',delimiter=\",\")\n",
    "#hyperparameters\n",
    "    points=array(points)\n",
    "    learning_rate=0.00005\n",
    "    initial_b=0\n",
    "    initial_m=0\n",
    "    num_iterations=10000\n",
    "    [b,m]=gradient_descent_runner(points,initial_b,initial_m,learning_rate,num_iterations)\n",
    "    print(b)\n",
    "    print(m)\n",
    "    x=points[:,0]\n",
    "    error=compute_error_for_given_points(b,m,points)\n",
    "    print(error)\n",
    "    y_pred=m*x+b\n",
    "    pp.plot(x,y_pred)\n",
    "    pp.show()\n",
    "    p=1-(1/(1+exp(y_pred)))\n",
    "    print (p)\n",
    "    pp.plot(x,p,'ro')\n",
    "    pp.show()\n",
    "if __name__ == '__main__':\n",
    "     run()\n"
   ]
  },
  {
   "cell_type": "code",
   "execution_count": 11,
   "metadata": {},
   "outputs": [
    {
     "data": {
      "text/plain": [
       "2.7182818284590451"
      ]
     },
     "execution_count": 11,
     "metadata": {},
     "output_type": "execute_result"
    }
   ],
   "source": [
    "exp(1)"
   ]
  },
  {
   "cell_type": "code",
   "execution_count": null,
   "metadata": {
    "collapsed": true
   },
   "outputs": [],
   "source": []
  }
 ],
 "metadata": {
  "kernelspec": {
   "display_name": "Python 3",
   "language": "python",
   "name": "python3"
  },
  "language_info": {
   "codemirror_mode": {
    "name": "ipython",
    "version": 3
   },
   "file_extension": ".py",
   "mimetype": "text/x-python",
   "name": "python",
   "nbconvert_exporter": "python",
   "pygments_lexer": "ipython3",
   "version": "3.6.2"
  }
 },
 "nbformat": 4,
 "nbformat_minor": 2
}
